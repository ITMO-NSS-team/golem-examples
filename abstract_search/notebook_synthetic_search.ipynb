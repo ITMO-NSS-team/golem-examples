{
  "cells": [
    {
      "cell_type": "markdown",
      "id": "7b859d0a",
      "metadata": {
        "id": "7b859d0a"
      },
      "source": [
        "# Эволюционный поиск графов\n",
        "\n",
        "В данном notebook фреймворк GOLEM используется для эволюционного поиска графов, наиболее схожих с каким-то целевым графом (случайно сгенерированным).\n",
        "\n",
        "На базе этого блокнота можно поэкспериментировать с различными настройками оптимизатора и сравнить поведение алгоритма (сходимости, результата) на графиках.\n",
        "\n",
        "*Примеры экспериментов:*\n",
        "- Сравнить эффективность эволюционного оптимизатора`EvoGraphOptimizer` и случайного поиска `RandomMutationSearchOptimizer`;\n",
        "- Сравнить скорость сходимости при различных настройках вероятностей мутации и кроссовера;\n",
        "- Сравнить популяционную (`GeneticSchemeTypesEnum.generational`) и адаптивную схемы (`GeneticSchemeTypesEnum.parameter_free`) эволюционного алгоритма.\n",
        "  Адаптивная схема автоматически подбирает вероятности мутации и кроссовера."
      ]
    },
    {
      "cell_type": "markdown",
      "id": "pGXdzdUPBohE",
      "metadata": {
        "id": "pGXdzdUPBohE"
      },
      "source": [
        "## Подготовка среды"
      ]
    },
    {
      "cell_type": "markdown",
      "id": "f6f4101a",
      "metadata": {
        "id": "f6f4101a"
      },
      "source": [
        "### Локально\n",
        "Следующие строчки нужны для локального запуска этого notebook из директории GOLEM и корректных импортов"
      ]
    },
    {
      "cell_type": "code",
      "execution_count": null,
      "id": "60f5e044",
      "metadata": {
        "id": "60f5e044",
        "outputId": "3d0a8004-36e2-4eb3-b83e-8eb224bc44b5"
      },
      "outputs": [
        {
          "name": "stdout",
          "output_type": "stream",
          "text": [
            "E:\\Documents\\projects\\all\\GOLEM\n"
          ]
        },
        {
          "data": {
            "text/plain": [
              "'E:\\\\Documents\\\\projects\\\\all\\\\GOLEM'"
            ]
          },
          "execution_count": 2,
          "metadata": {},
          "output_type": "execute_result"
        }
      ],
      "source": [
        "# This is needed for launching notebook from inside GOLEM directory\n",
        "%pwd\n",
        "%cd ../..\n",
        "%pwd"
      ]
    },
    {
      "cell_type": "markdown",
      "id": "a8ddbda1",
      "metadata": {
        "id": "a8ddbda1"
      },
      "source": [
        "### Google Colab\n",
        "Из-за конфликтов версий некоторых пакетов в Google Colab нужно их обновить. Должна быть версия `PIL>=9.1.0`. Если нет -- обновите. ***После этого потребуется перезагрузка runtime***."
      ]
    },
    {
      "cell_type": "code",
      "execution_count": 1,
      "id": "mMQjUwuaIqeY",
      "metadata": {
        "id": "mMQjUwuaIqeY"
      },
      "outputs": [],
      "source": [
        "!pip install --force-reinstall pillow>=9.1.0  # There's a problem with Pillow on Google colab, see details here: https://forums.fast.ai/t/no-module-named-pil-image/96968/8\n",
        "# !pip install --force-reinstall ipython~=7.9.0  # for solving Google Colab conflict; not necessary"
      ]
    },
    {
      "cell_type": "code",
      "execution_count": 1,
      "id": "7CgmpAPyI3ur",
      "metadata": {
        "colab": {
          "base_uri": "https://localhost:8080/"
        },
        "id": "7CgmpAPyI3ur",
        "outputId": "3707e110-e6f4-433c-a8c7-c2794bae8a87"
      },
      "outputs": [
        {
          "output_type": "stream",
          "name": "stdout",
          "text": [
            "9.4.0\n"
          ]
        }
      ],
      "source": [
        "import PIL\n",
        "print(PIL.__version__)  # must be >= 9.1.0"
      ]
    },
    {
      "cell_type": "markdown",
      "id": "0111c20e",
      "metadata": {
        "id": "0111c20e"
      },
      "source": [
        "## Установка пакетов"
      ]
    },
    {
      "cell_type": "markdown",
      "id": "-_YFWxVJEnug",
      "metadata": {
        "id": "-_YFWxVJEnug"
      },
      "source": [
        "Простейший способ установить GOLEM -- это `pip install thegolem`.\n",
        "\n",
        "Но мы установим последний GOLEM из ветки `dev`."
      ]
    },
    {
      "cell_type": "code",
      "execution_count": 2,
      "id": "745ea547",
      "metadata": {
        "colab": {
          "base_uri": "https://localhost:8080/"
        },
        "id": "745ea547",
        "outputId": "53d4dfa7-10c3-4181-e414-ba806b295c12"
      },
      "outputs": [
        {
          "output_type": "stream",
          "name": "stdout",
          "text": [
            "\u001b[?25l     \u001b[32m-\u001b[0m \u001b[32m0 bytes\u001b[0m \u001b[31m?\u001b[0m \u001b[33m0:00:00\u001b[0m\r\u001b[2K     \u001b[32m-\u001b[0m \u001b[32m394.6 kB\u001b[0m \u001b[31m11.9 MB/s\u001b[0m \u001b[33m0:00:00\u001b[0m\r\u001b[2K     \u001b[32m-\u001b[0m \u001b[32m504.0 kB\u001b[0m \u001b[31m12.3 MB/s\u001b[0m \u001b[33m0:00:00\u001b[0m\n",
            "\u001b[?25h  Preparing metadata (setup.py) ... \u001b[?25l\u001b[?25hdone\n",
            "\u001b[2K     \u001b[90m━━━━━━━━━━━━━━━━━━━━━━━━━━━━━━━━━━━━━━━\u001b[0m \u001b[32m17.3/17.3 MB\u001b[0m \u001b[31m212.9 MB/s\u001b[0m eta \u001b[36m0:00:00\u001b[0m\n",
            "\u001b[2K     \u001b[90m━━━━━━━━━━━━━━━━━━━━━━━━━━━━━━━━━━━━━━━━\u001b[0m \u001b[32m2.0/2.0 MB\u001b[0m \u001b[31m260.9 MB/s\u001b[0m eta \u001b[36m0:00:00\u001b[0m\n",
            "\u001b[2K     \u001b[90m━━━━━━━━━━━━━━━━━━━━━━━━━━━━━━━━━━━━━━━\u001b[0m \u001b[32m34.5/34.5 MB\u001b[0m \u001b[31m230.0 MB/s\u001b[0m eta \u001b[36m0:00:00\u001b[0m\n",
            "\u001b[?25h  Preparing metadata (setup.py) ... \u001b[?25l\u001b[?25hdone\n",
            "  Preparing metadata (setup.py) ... \u001b[?25l\u001b[?25hdone\n",
            "\u001b[2K     \u001b[90m━━━━━━━━━━━━━━━━━━━━━━━━━━━━━━━━━━━━━\u001b[0m \u001b[32m293.3/293.3 KB\u001b[0m \u001b[31m120.8 MB/s\u001b[0m eta \u001b[36m0:00:00\u001b[0m\n",
            "\u001b[2K     \u001b[90m━━━━━━━━━━━━━━━━━━━━━━━━━━━━━━━━━━━━━━━\u001b[0m \u001b[32m44.3/44.3 KB\u001b[0m \u001b[31m117.2 MB/s\u001b[0m eta \u001b[36m0:00:00\u001b[0m\n",
            "\u001b[?25h  Preparing metadata (setup.py) ... \u001b[?25l\u001b[?25hdone\n",
            "\u001b[2K     \u001b[90m━━━━━━━━━━━━━━━━━━━━━━━━━━━━━━━━━━━━━\u001b[0m \u001b[32m298.0/298.0 KB\u001b[0m \u001b[31m163.8 MB/s\u001b[0m eta \u001b[36m0:00:00\u001b[0m\n",
            "\u001b[2K     \u001b[90m━━━━━━━━━━━━━━━━━━━━━━━━━━━━━━━━━━━━━━━\u001b[0m \u001b[32m62.8/62.8 KB\u001b[0m \u001b[31m129.0 MB/s\u001b[0m eta \u001b[36m0:00:00\u001b[0m\n",
            "\u001b[2K     \u001b[90m━━━━━━━━━━━━━━━━━━━━━━━━━━━━━━━━━━━━━━━\u001b[0m \u001b[32m77.1/77.1 KB\u001b[0m \u001b[31m201.4 MB/s\u001b[0m eta \u001b[36m0:00:00\u001b[0m\n",
            "\u001b[2K     \u001b[90m━━━━━━━━━━━━━━━━━━━━━━━━━━━━━━━━━━━━━━━\u001b[0m \u001b[32m78.6/78.6 KB\u001b[0m \u001b[31m196.7 MB/s\u001b[0m eta \u001b[36m0:00:00\u001b[0m\n",
            "\u001b[?25h  Preparing metadata (setup.py) ... \u001b[?25l\u001b[?25hdone\n",
            "\u001b[2K     \u001b[90m━━━━━━━━━━━━━━━━━━━━━━━━━━━━━━━━━━━━━\u001b[0m \u001b[32m280.2/280.2 KB\u001b[0m \u001b[31m244.5 MB/s\u001b[0m eta \u001b[36m0:00:00\u001b[0m\n",
            "\u001b[2K     \u001b[90m━━━━━━━━━━━━━━━━━━━━━━━━━━━━━━━━━━━━━━━━\u001b[0m \u001b[32m1.6/1.6 MB\u001b[0m \u001b[31m258.0 MB/s\u001b[0m eta \u001b[36m0:00:00\u001b[0m\n",
            "\u001b[2K     \u001b[90m━━━━━━━━━━━━━━━━━━━━━━━━━━━━━━━━━━━━━━\u001b[0m \u001b[32m317.2/317.2 KB\u001b[0m \u001b[31m96.6 MB/s\u001b[0m eta \u001b[36m0:00:00\u001b[0m\n",
            "\u001b[2K     \u001b[90m━━━━━━━━━━━━━━━━━━━━━━━━━━━━━━━━━━━━━\u001b[0m \u001b[32m102.4/102.4 KB\u001b[0m \u001b[31m135.2 MB/s\u001b[0m eta \u001b[36m0:00:00\u001b[0m\n",
            "\u001b[2K     \u001b[90m━━━━━━━━━━━━━━━━━━━━━━━━━━━━━━━━━━━━━━━\u001b[0m \u001b[32m12.2/12.2 MB\u001b[0m \u001b[31m218.2 MB/s\u001b[0m eta \u001b[36m0:00:00\u001b[0m\n",
            "\u001b[2K     \u001b[90m━━━━━━━━━━━━━━━━━━━━━━━━━━━━━━━━━━━━━━━\u001b[0m \u001b[32m11.6/11.6 MB\u001b[0m \u001b[31m173.9 MB/s\u001b[0m eta \u001b[36m0:00:00\u001b[0m\n",
            "\u001b[2K     \u001b[90m━━━━━━━━━━━━━━━━━━━━━━━━━━━━━━━━━━━━━\u001b[0m \u001b[32m133.1/133.1 KB\u001b[0m \u001b[31m138.3 MB/s\u001b[0m eta \u001b[36m0:00:00\u001b[0m\n",
            "\u001b[2K     \u001b[90m━━━━━━━━━━━━━━━━━━━━━━━━━━━━━━━━━━━━━\u001b[0m \u001b[32m793.3/793.3 KB\u001b[0m \u001b[31m269.6 MB/s\u001b[0m eta \u001b[36m0:00:00\u001b[0m\n",
            "\u001b[2K     \u001b[90m━━━━━━━━━━━━━━━━━━━━━━━━━━━━━━━━━━━━━━━\u001b[0m \u001b[32m40.5/40.5 KB\u001b[0m \u001b[31m120.2 MB/s\u001b[0m eta \u001b[36m0:00:00\u001b[0m\n",
            "\u001b[2K     \u001b[90m━━━━━━━━━━━━━━━━━━━━━━━━━━━━━━━━━━━━━\u001b[0m \u001b[32m200.5/200.5 KB\u001b[0m \u001b[31m229.4 MB/s\u001b[0m eta \u001b[36m0:00:00\u001b[0m\n",
            "\u001b[2K     \u001b[90m━━━━━━━━━━━━━━━━━━━━━━━━━━━━━━━━━━━━━\u001b[0m \u001b[32m840.9/840.9 KB\u001b[0m \u001b[31m172.7 MB/s\u001b[0m eta \u001b[36m0:00:00\u001b[0m\n",
            "\u001b[?25h  Preparing metadata (setup.py) ... \u001b[?25l\u001b[?25hdone\n",
            "\u001b[2K     \u001b[90m━━━━━━━━━━━━━━━━━━━━━━━━━━━━━━━━━━━━━\u001b[0m \u001b[32m299.7/299.7 KB\u001b[0m \u001b[31m248.3 MB/s\u001b[0m eta \u001b[36m0:00:00\u001b[0m\n",
            "\u001b[2K     \u001b[90m━━━━━━━━━━━━━━━━━━━━━━━━━━━━━━━━━━━━━━━━\u001b[0m \u001b[32m3.4/3.4 MB\u001b[0m \u001b[31m233.8 MB/s\u001b[0m eta \u001b[36m0:00:00\u001b[0m\n",
            "\u001b[2K     \u001b[90m━━━━━━━━━━━━━━━━━━━━━━━━━━━━━━━━━━━━━\u001b[0m \u001b[32m247.7/247.7 KB\u001b[0m \u001b[31m241.2 MB/s\u001b[0m eta \u001b[36m0:00:00\u001b[0m\n",
            "\u001b[2K     \u001b[90m━━━━━━━━━━━━━━━━━━━━━━━━━━━━━━━━━━━━━━━\u001b[0m \u001b[32m98.3/98.3 KB\u001b[0m \u001b[31m177.7 MB/s\u001b[0m eta \u001b[36m0:00:00\u001b[0m\n",
            "\u001b[2K     \u001b[90m━━━━━━━━━━━━━━━━━━━━━━━━━━━━━━━━━━━━━━━━\u001b[0m \u001b[32m1.0/1.0 MB\u001b[0m \u001b[31m284.5 MB/s\u001b[0m eta \u001b[36m0:00:00\u001b[0m\n",
            "\u001b[2K     \u001b[90m━━━━━━━━━━━━━━━━━━━━━━━━━━━━━━━━━━━━━━━━\u001b[0m \u001b[32m1.6/1.6 MB\u001b[0m \u001b[31m285.3 MB/s\u001b[0m eta \u001b[36m0:00:00\u001b[0m\n",
            "\u001b[2K     \u001b[90m━━━━━━━━━━━━━━━━━━━━━━━━━━━━━━━━━━━━━━━\u001b[0m \u001b[32m42.7/42.7 KB\u001b[0m \u001b[31m148.4 MB/s\u001b[0m eta \u001b[36m0:00:00\u001b[0m\n",
            "\u001b[2K     \u001b[90m━━━━━━━━━━━━━━━━━━━━━━━━━━━━━━━━━━━━━\u001b[0m \u001b[32m499.4/499.4 KB\u001b[0m \u001b[31m263.6 MB/s\u001b[0m eta \u001b[36m0:00:00\u001b[0m\n",
            "\u001b[2K     \u001b[90m━━━━━━━━━━━━━━━━━━━━━━━━━━━━━━━━━━━━━━━\u001b[0m \u001b[32m60.0/60.0 KB\u001b[0m \u001b[31m182.8 MB/s\u001b[0m eta \u001b[36m0:00:00\u001b[0m\n",
            "\u001b[2K     \u001b[90m━━━━━━━━━━━━━━━━━━━━━━━━━━━━━━━━━━━━━━━\u001b[0m \u001b[32m61.5/61.5 KB\u001b[0m \u001b[31m195.7 MB/s\u001b[0m eta \u001b[36m0:00:00\u001b[0m\n",
            "\u001b[2K     \u001b[90m━━━━━━━━━━━━━━━━━━━━━━━━━━━━━━━━━━━━━\u001b[0m \u001b[32m140.9/140.9 KB\u001b[0m \u001b[31m237.7 MB/s\u001b[0m eta \u001b[36m0:00:00\u001b[0m\n",
            "\u001b[2K     \u001b[90m━━━━━━━━━━━━━━━━━━━━━━━━━━━━━━━━━━━━━\u001b[0m \u001b[32m155.3/155.3 KB\u001b[0m \u001b[31m229.7 MB/s\u001b[0m eta \u001b[36m0:00:00\u001b[0m\n",
            "\u001b[2K     \u001b[90m━━━━━━━━━━━━━━━━━━━━━━━━━━━━━━━━━━━━━\u001b[0m \u001b[32m199.2/199.2 KB\u001b[0m \u001b[31m149.3 MB/s\u001b[0m eta \u001b[36m0:00:00\u001b[0m\n",
            "\u001b[2K     \u001b[90m━━━━━━━━━━━━━━━━━━━━━━━━━━━━━━━━━━━━━━━━\u001b[0m \u001b[32m1.6/1.6 MB\u001b[0m \u001b[31m165.6 MB/s\u001b[0m eta \u001b[36m0:00:00\u001b[0m\n",
            "\u001b[2K     \u001b[90m━━━━━━━━━━━━━━━━━━━━━━━━━━━━━━━━━━━━━━━━\u001b[0m \u001b[32m1.1/1.1 MB\u001b[0m \u001b[31m192.0 MB/s\u001b[0m eta \u001b[36m0:00:00\u001b[0m\n",
            "\u001b[2K     \u001b[90m━━━━━━━━━━━━━━━━━━━━━━━━━━━━━━━━━━━━━\u001b[0m \u001b[32m117.4/117.4 KB\u001b[0m \u001b[31m146.7 MB/s\u001b[0m eta \u001b[36m0:00:00\u001b[0m\n",
            "\u001b[2K     \u001b[90m━━━━━━━━━━━━━━━━━━━━━━━━━━━━━━━━━━━━━━━\u001b[0m \u001b[32m59.0/59.0 KB\u001b[0m \u001b[31m102.2 MB/s\u001b[0m eta \u001b[36m0:00:00\u001b[0m\n",
            "\u001b[2K     \u001b[90m━━━━━━━━━━━━━━━━━━━━━━━━━━━━━━━━━━━━━\u001b[0m \u001b[32m385.8/385.8 KB\u001b[0m \u001b[31m129.7 MB/s\u001b[0m eta \u001b[36m0:00:00\u001b[0m\n",
            "\u001b[2K     \u001b[90m━━━━━━━━━━━━━━━━━━━━━━━━━━━━━━━━━━━━━\u001b[0m \u001b[32m100.8/100.8 KB\u001b[0m \u001b[31m203.1 MB/s\u001b[0m eta \u001b[36m0:00:00\u001b[0m\n",
            "\u001b[?25h  Building wheel for thegolem (setup.py) ... \u001b[?25l\u001b[?25hdone\n",
            "  Building wheel for func_timeout (setup.py) ... \u001b[?25l\u001b[?25hdone\n",
            "  Building wheel for pyvis (setup.py) ... \u001b[?25l\u001b[?25hdone\n",
            "  Building wheel for typing (setup.py) ... \u001b[?25l\u001b[?25hdone\n",
            "  Building wheel for zss (setup.py) ... \u001b[?25l\u001b[?25hdone\n",
            "  Building wheel for future (setup.py) ... \u001b[?25l\u001b[?25hdone\n",
            "\u001b[31mERROR: pip's dependency resolver does not currently take into account all the packages that are installed. This behaviour is the source of the following dependency conflicts.\n",
            "pandas-profiling 3.2.0 requires joblib~=1.1.0, but you have joblib 1.2.0 which is incompatible.\n",
            "numba 0.56.4 requires numpy<1.24,>=1.18, but you have numpy 1.24.2 which is incompatible.\n",
            "moviepy 0.2.3.5 requires decorator<5.0,>=4.0.2, but you have decorator 5.1.1 which is incompatible.\n",
            "google-colab 1.0.0 requires ipython~=7.9.0, but you have ipython 8.11.0 which is incompatible.\u001b[0m\u001b[31m\n",
            "\u001b[0mLooking in indexes: https://pypi.org/simple, https://us-python.pkg.dev/colab-wheels/public/simple/\n",
            "Collecting numpy==1.22.4\n",
            "  Downloading numpy-1.22.4-cp39-cp39-manylinux_2_17_x86_64.manylinux2014_x86_64.whl (16.8 MB)\n",
            "\u001b[2K     \u001b[90m━━━━━━━━━━━━━━━━━━━━━━━━━━━━━━━━━━━━━━━━\u001b[0m \u001b[32m16.8/16.8 MB\u001b[0m \u001b[31m27.8 MB/s\u001b[0m eta \u001b[36m0:00:00\u001b[0m\n",
            "\u001b[?25hInstalling collected packages: numpy\n",
            "  Attempting uninstall: numpy\n",
            "    Found existing installation: numpy 1.24.2\n",
            "    Uninstalling numpy-1.24.2:\n",
            "      Successfully uninstalled numpy-1.24.2\n",
            "\u001b[31mERROR: pip's dependency resolver does not currently take into account all the packages that are installed. This behaviour is the source of the following dependency conflicts.\n",
            "pandas-profiling 3.2.0 requires joblib~=1.1.0, but you have joblib 1.2.0 which is incompatible.\n",
            "moviepy 0.2.3.5 requires decorator<5.0,>=4.0.2, but you have decorator 5.1.1 which is incompatible.\n",
            "google-colab 1.0.0 requires ipython~=7.9.0, but you have ipython 8.11.0 which is incompatible.\u001b[0m\u001b[31m\n",
            "\u001b[0mSuccessfully installed numpy-1.22.4\n",
            "Looking in indexes: https://pypi.org/simple, https://us-python.pkg.dev/colab-wheels/public/simple/\n",
            "Requirement already satisfied: plotly in /usr/local/lib/python3.9/dist-packages (5.5.0)\n",
            "Requirement already satisfied: six in /usr/local/lib/python3.9/dist-packages (from plotly) (1.16.0)\n",
            "Requirement already satisfied: tenacity>=6.2.0 in /usr/local/lib/python3.9/dist-packages (from plotly) (8.2.2)\n"
          ]
        }
      ],
      "source": [
        "!pip install --upgrade --force-reinstall --no-cache-dir --quiet --no-warn-script-location https://github.com/aimclub/GOLEM/archive/dev.zip\n",
        "!pip install numpy==1.22.4  # needed for compatibility with Google Colab\n",
        "!pip install plotly"
      ]
    },
    {
      "cell_type": "markdown",
      "id": "7af9c40f",
      "metadata": {
        "id": "7af9c40f"
      },
      "source": [
        "Импортируем необходимые модули:"
      ]
    },
    {
      "cell_type": "code",
      "execution_count": 3,
      "id": "ff46afa0",
      "metadata": {
        "id": "ff46afa0"
      },
      "outputs": [],
      "source": [
        "from datetime import timedelta, datetime\n",
        "from itertools import cycle, zip_longest\n",
        "from functools import partial\n",
        "from typing import Type, Optional, Sequence, Tuple\n",
        "from pprint import pprint\n",
        "\n",
        "from matplotlib import pyplot as plt\n",
        "import plotly.express as px\n",
        "import plotly.graph_objs as go\n",
        "from PIL import ImageColor\n",
        "\n",
        "from examples.synthetic_graph_evolution.experiment import run_experiments\n",
        "from examples.synthetic_graph_evolution.utils import draw_graphs_subplots, visualize_histories\n",
        "from examples.synthetic_graph_evolution.generators import generate_labeled_graph\n",
        "from golem.core.adapter.nx_adapter import BaseNetworkxAdapter\n",
        "from golem.core.dag.verification_rules import has_no_self_cycled_nodes\n",
        "from golem.core.optimisers.genetic.gp_optimizer import EvoGraphOptimizer\n",
        "from golem.core.optimisers.genetic.gp_params import GPAlgorithmParameters\n",
        "from golem.core.optimisers.genetic.operators.base_mutations import MutationTypesEnum\n",
        "from golem.core.optimisers.genetic.operators.crossover import CrossoverTypesEnum\n",
        "from golem.core.optimisers.genetic.operators.inheritance import GeneticSchemeTypesEnum\n",
        "from golem.core.optimisers.objective import Objective\n",
        "from golem.core.optimisers.optimization_parameters import GraphRequirements\n",
        "from golem.core.optimisers.optimizer import GraphGenerationParams, GraphOptimizer\n",
        "from golem.core.optimisers.opt_history_objects.opt_history import OptHistory\n",
        "from golem.metrics.graph_metrics import *"
      ]
    },
    {
      "cell_type": "markdown",
      "id": "c577648f",
      "metadata": {
        "id": "c577648f"
      },
      "source": [
        "## Определение задачи и оптимизатора"
      ]
    },
    {
      "cell_type": "markdown",
      "id": "ef84a8a7",
      "metadata": {
        "id": "ef84a8a7"
      },
      "source": [
        "Определим основные настройки оптимизации:\n",
        "- Размер и тип целевого графа:\n",
        "  `gnp` -- это случайно растущий граф, склонный к кластеризации,\n",
        "  а 20 -- это небольшой размер для быстрой оптимизации.\n",
        "- Целевая функция, измеряющая некоторое \"расстояние\" до целевого графа\n",
        "- Параметры алгоритма: набор мутаций и кроссовера, генетическая схема, вероятности\n",
        "- Адаптер графов и правила верификации (ограничения на графы)"
      ]
    },
    {
      "cell_type": "code",
      "execution_count": 22,
      "id": "613c755e",
      "metadata": {
        "id": "613c755e"
      },
      "outputs": [],
      "source": [
        "def run_search(graph_kind: str = 'gnp',\n",
        "               graph_size: int = 30,\n",
        "               optimizer_cls: Type[GraphOptimizer] = EvoGraphOptimizer,\n",
        "               gp_params: Optional[GPAlgorithmParameters] = None,\n",
        "               node_types: Sequence[str] = ('x',),\n",
        "               timeout: Optional[timedelta] = timedelta(minutes=4),\n",
        "               num_iterations: Optional[int] = 400):  \n",
        "    \n",
        "    # Generate target graph for optimization\n",
        "    target_graph = generate_labeled_graph(graph_kind, graph_size, node_types)\n",
        "    # Generate simple initial population with small graphs\n",
        "    initial_graphs = [generate_labeled_graph('gnp', k+5, node_types) for k in range(5)]\n",
        "\n",
        "    # Setup objective that measures some graph-theoretic similarity measure\n",
        "    objective = Objective(\n",
        "        quality_metrics={\n",
        "            # 'sp_adj': partial(spectral_dist, target_graph, kind='adjacency'),\n",
        "            'sp_lapl': partial(spectral_dist, target_graph, kind='laplacian'),\n",
        "        },\n",
        "        complexity_metrics={\n",
        "            'graph_size': partial(size_diff, target_graph),\n",
        "        },\n",
        "        is_multi_objective=False\n",
        "    )\n",
        "    \n",
        "    # Optimization parameters\n",
        "    requirements = GraphRequirements(\n",
        "        timeout=timeout,\n",
        "        num_of_generations=num_iterations,\n",
        "        early_stopping_iterations=None,\n",
        "        history_dir=None,\n",
        "\n",
        "        max_depth=graph_size,\n",
        "        max_arity=graph_size,\n",
        "    )\n",
        "    \n",
        "    gp_params = gp_params or GPAlgorithmParameters(\n",
        "        pop_size=20,\n",
        "        mutation_prob=0.8,\n",
        "        crossover_prob=0.8,\n",
        "        genetic_scheme_type=GeneticSchemeTypesEnum.generational,\n",
        "        mutation_types=[\n",
        "            MutationTypesEnum.single_add,\n",
        "            MutationTypesEnum.single_drop,\n",
        "            MutationTypesEnum.single_edge,\n",
        "        ],\n",
        "    )\n",
        "    gp_params.multi_objective = objective.is_multi_objective\n",
        "    \n",
        "    graph_gen_params = GraphGenerationParams(\n",
        "        adapter=BaseNetworkxAdapter(),\n",
        "        rules_for_constraint=[has_no_self_cycled_nodes],\n",
        "        available_node_types=node_types,\n",
        "    )\n",
        "    \n",
        "    # Build and run the optimizer\n",
        "    initial_graphs = graph_gen_params.adapter.adapt(initial_graphs)\n",
        "    optimiser = optimizer_cls(objective, initial_graphs, requirements, graph_gen_params, gp_params)\n",
        "    found_graphs = optimiser.optimise(objective)\n",
        "    \n",
        "    found_graphs = graph_gen_params.adapter.restore(found_graphs)\n",
        "    best_graph = found_graphs[0]\n",
        "    history = optimiser.history\n",
        "   \n",
        "    return best_graph, history, target_graph"
      ]
    },
    {
      "cell_type": "markdown",
      "id": "326b7fab",
      "metadata": {
        "id": "326b7fab"
      },
      "source": [
        "Определим вспомогательные функции для визуализации историй и графов"
      ]
    },
    {
      "cell_type": "code",
      "execution_count": 29,
      "id": "960adbcd",
      "metadata": {
        "id": "960adbcd"
      },
      "outputs": [],
      "source": [
        "def visualise_graphs(best_graph, history, target_graph):\n",
        "    adapter = BaseNetworkxAdapter()\n",
        "    best_graph = adapter.restore(best_graph)\n",
        "    initial_graphs = adapter.restore(history.initial_assumptions)\n",
        "    found_graphs = adapter.restore(history.final_choices)\n",
        "\n",
        "    # Visualize results and optimization process\n",
        "    print('Характеристики целевого графа:')\n",
        "    pprint(nxgraph_stats(target_graph))\n",
        "    print('\\nХарактеристики найденного лучшего графа:')\n",
        "    pprint(nxgraph_stats(best_graph))\n",
        "\n",
        "    # Show target graph and best graph\n",
        "    print('Целевой и лучший графы:')\n",
        "    draw_graphs_subplots(target_graph, best_graph, size=8)\n",
        "    # Show initial assumptions\n",
        "    print('Начальное приближение:')\n",
        "    draw_graphs_subplots(*initial_graphs[:6], size=6)\n",
        "    if len(found_graphs) > 1:\n",
        "      print('Лучшие графы:')\n",
        "      # Show final results\n",
        "      draw_graphs_subplots(*found_graphs[:6], size=8)"
      ]
    },
    {
      "cell_type": "markdown",
      "id": "771e63b3",
      "metadata": {
        "id": "771e63b3"
      },
      "source": [
        "## Запуск экспериментов"
      ]
    },
    {
      "cell_type": "markdown",
      "id": "J0FnWZkBhA1b",
      "metadata": {
        "id": "J0FnWZkBhA1b"
      },
      "source": [
        "### Эксперимент 1: сравнение случайного поиска и эволюции"
      ]
    },
    {
      "cell_type": "markdown",
      "id": "AzboqiSrdSaU",
      "metadata": {
        "id": "AzboqiSrdSaU"
      },
      "source": [
        "Мы можем увидеть, что эволюционный алгоритм показывает лучшеие результаты и достигает их за меньшее время. Это происходит за счет более целенаправленного поиска и обмена информацией между членами популяции (за счет кроссовера). Запустим и проверим."
      ]
    },
    {
      "cell_type": "markdown",
      "id": "fa72768e",
      "metadata": {
        "id": "fa72768e"
      },
      "source": [
        "Запустим оптимизатор случайного поиска"
      ]
    },
    {
      "cell_type": "code",
      "execution_count": null,
      "id": "4bee369b",
      "metadata": {
        "id": "4bee369b"
      },
      "outputs": [],
      "source": [
        "from golem.core.optimisers.random.random_mutation_optimizer import RandomMutationSearchOptimizer\n",
        "from golem.core.optimisers.random.random_search import RandomSearchOptimizer\n",
        "\n",
        "best_graph, history, target_graph = \\\n",
        "    run_search(graph_kind='gnp', graph_size=30, optimizer_cls=RandomMutationSearchOptimizer, num_iterations=500)"
      ]
    },
    {
      "cell_type": "markdown",
      "id": "d8938ed6",
      "metadata": {
        "id": "d8938ed6"
      },
      "source": [
        "Запустим эволюционный оптимизатор"
      ]
    },
    {
      "cell_type": "code",
      "execution_count": null,
      "id": "8b27fdf0",
      "metadata": {
        "id": "8b27fdf0"
      },
      "outputs": [],
      "source": [
        "best_graph2, history2, target_graph2 = \\\n",
        "    run_search(graph_kind='gnp', graph_size=30, optimizer_cls=EvoGraphOptimizer)"
      ]
    },
    {
      "cell_type": "markdown",
      "id": "12a9f9dc",
      "metadata": {
        "id": "12a9f9dc"
      },
      "source": [
        "Визуализиуем графики истории оптимизации"
      ]
    },
    {
      "cell_type": "code",
      "execution_count": 23,
      "id": "9d42421b",
      "metadata": {
        "colab": {
          "base_uri": "https://localhost:8080/",
          "height": 359
        },
        "id": "9d42421b",
        "outputId": "152487df-26fa-420c-8730-abad4a82a27f"
      },
      "outputs": [
        {
          "output_type": "stream",
          "name": "stderr",
          "text": [
            "INFO:root:FitnessLine - Visualizing optimization history... It may take some time, depending on the history size.\n"
          ]
        },
        {
          "output_type": "stream",
          "name": "stdout",
          "text": [
            "2023-03-17 13:40:10,308 - FitnessLine - Visualizing optimization history... It may take some time, depending on the history size.\n"
          ]
        },
        {
          "output_type": "display_data",
          "data": {
            "text/plain": [
              "<Figure size 460.8x345.6 with 1 Axes>"
            ],
            "image/png": "[encoded data removed]"
          },
          "metadata": {}
        }
      ],
      "source": [
        "# Show optimization history\n",
        "history.show.fitness_line()"
      ]
    },
    {
      "cell_type": "code",
      "execution_count": 13,
      "id": "3af2852c",
      "metadata": {
        "colab": {
          "base_uri": "https://localhost:8080/",
          "height": 359
        },
        "id": "3af2852c",
        "outputId": "a4f2ad82-b566-4f21-9625-38ff2533c2b3"
      },
      "outputs": [
        {
          "output_type": "stream",
          "name": "stderr",
          "text": [
            "INFO:root:FitnessLine - Visualizing optimization history... It may take some time, depending on the history size.\n"
          ]
        },
        {
          "output_type": "stream",
          "name": "stdout",
          "text": [
            "2023-03-17 13:34:55,384 - FitnessLine - Visualizing optimization history... It may take some time, depending on the history size.\n"
          ]
        },
        {
          "output_type": "display_data",
          "data": {
            "text/plain": [
              "<Figure size 460.8x345.6 with 1 Axes>"
            ],
            "image/png": "[encoded data removed]"
          },
          "metadata": {}
        }
      ],
      "source": [
        "# Show optimization history\n",
        "history2.show.fitness_line()"
      ]
    },
    {
      "cell_type": "markdown",
      "id": "HoOunWCrhTNX",
      "metadata": {
        "id": "HoOunWCrhTNX"
      },
      "source": [
        "Визуализируем целевой граф, начальное приближеие и найденные графы"
      ]
    },
    {
      "cell_type": "code",
      "execution_count": 30,
      "id": "2d20985b",
      "metadata": {
        "colab": {
          "base_uri": "https://localhost:8080/",
          "height": 854
        },
        "id": "2d20985b",
        "outputId": "fabf44a3-fe2d-472a-b2af-e1db8e85e792"
      },
      "outputs": [
        {
          "output_type": "stream",
          "name": "stdout",
          "text": [
            "Характеристики целевого графа:\n",
            "{'avg_clustering': 0.023,\n",
            " 'degrees_hist': [0, 3, 9, 11, 5, 2],\n",
            " 'degrees_hist_norm': array([0.  , 0.19, 0.58, 0.71, 0.32, 0.13]),\n",
            " 'num_edges': 42,\n",
            " 'num_nodes': 30}\n",
            "\n",
            "Характеристики найденного лучшего графа:\n",
            "{'avg_clustering': 0.0,\n",
            " 'degrees_hist': [2],\n",
            " 'degrees_hist_norm': array([1.]),\n",
            " 'num_edges': 0,\n",
            " 'num_nodes': 2}\n",
            "Целевой и лучший графы:\n"
          ]
        },
        {
          "output_type": "display_data",
          "data": {
            "text/plain": [
              "<Figure size 576x288 with 2 Axes>"
            ],
            "image/png": "[encoded data removed]"
          },
          "metadata": {}
        },
        {
          "output_type": "stream",
          "name": "stdout",
          "text": [
            "Начальное приближение:\n"
          ]
        },
        {
          "output_type": "display_data",
          "data": {
            "text/plain": [
              "<Figure size 432x432 with 1 Axes>"
            ],
            "image/png": "[encoded data removed]"
          },
          "metadata": {}
        }
      ],
      "source": [
        "# Visualise initial and final populations\n",
        "visualise_graphs(best_graph, history, target_graph)"
      ]
    },
    {
      "cell_type": "code",
      "execution_count": 31,
      "id": "Mg2bdG7jQkBs",
      "metadata": {
        "colab": {
          "base_uri": "https://localhost:8080/",
          "height": 691
        },
        "id": "Mg2bdG7jQkBs",
        "outputId": "32f62619-3283-48a3-d170-708991ef2e48"
      },
      "outputs": [
        {
          "output_type": "stream",
          "name": "stdout",
          "text": [
            "Характеристики целевого графа:\n",
            "{'avg_clustering': 0.059,\n",
            " 'degrees_hist': [0, 3, 5, 6, 5, 8, 1, 1, 1],\n",
            " 'degrees_hist_norm': array([0.  , 0.24, 0.39, 0.47, 0.39, 0.63, 0.08, 0.08, 0.08]),\n",
            " 'num_edges': 56,\n",
            " 'num_nodes': 30}\n",
            "\n",
            "Характеристики найденного лучшего графа:\n",
            "{'avg_clustering': 0.028,\n",
            " 'degrees_hist': [1, 6, 11, 4, 6, 2],\n",
            " 'degrees_hist_norm': array([0.07, 0.41, 0.75, 0.27, 0.41, 0.14]),\n",
            " 'num_edges': 37,\n",
            " 'num_nodes': 30}\n",
            "Целевой и лучший графы:\n"
          ]
        },
        {
          "output_type": "display_data",
          "data": {
            "text/plain": [
              "<Figure size 576x288 with 2 Axes>"
            ],
            "image/png": "[encoded data removed]"
          },
          "metadata": {}
        },
        {
          "output_type": "stream",
          "name": "stdout",
          "text": [
            "Начальное приближение:\n"
          ]
        },
        {
          "output_type": "display_data",
          "data": {
            "text/plain": [
              "<Figure size 432x216 with 2 Axes>"
            ],
            "image/png": "[encoded data removed]"
          },
          "metadata": {}
        }
      ],
      "source": [
        "# Visualise initial and final populations\n",
        "visualise_graphs(best_graph2, history2, target_graph2)"
      ]
    },
    {
      "cell_type": "markdown",
      "id": "S7M7rIeDgfz4",
      "metadata": {
        "id": "S7M7rIeDgfz4"
      },
      "source": [
        "### Эксперимент 2: Влияние эволюционных операторов и их вероятностей"
      ]
    },
    {
      "cell_type": "markdown",
      "id": "OZi621Clgvw-",
      "metadata": {
        "id": "OZi621Clgvw-"
      },
      "source": [
        "Одной из ключевых идей работы генетических алгоритмов является использование операторов **мутации**, **селекции** и **кроссовера**. При помощи верно подобранных операций и их вероятностей можно ускорить процесс схождения функции к оптимуму.\n",
        "\n",
        "Далее мы наглядно убедимся в этом. В примерах выше были использованы все возможные операторы. Теперь попробуем запустить алгоритм используя только конкретные и посмотрим на их влияния на процесс оптимизации."
      ]
    },
    {
      "cell_type": "markdown",
      "id": "7oyXWV6hjduG",
      "metadata": {
        "id": "7oyXWV6hjduG"
      },
      "source": [
        "Запустим процесс оптимизации *без оператора кроссовера*"
      ]
    },
    {
      "cell_type": "code",
      "execution_count": null,
      "id": "hxmmJzZPgcqR",
      "metadata": {
        "id": "hxmmJzZPgcqR"
      },
      "outputs": [],
      "source": [
        "gp_params = GPAlgorithmParameters(\n",
        "    mutation_prob=0.8,\n",
        "    crossover_prob=0.8,\n",
        "    genetic_scheme_type=GeneticSchemeTypesEnum.generational,\n",
        "    mutation_types=[\n",
        "        MutationTypesEnum.single_add,\n",
        "        MutationTypesEnum.single_drop,\n",
        "        MutationTypesEnum.single_edge,\n",
        "    ],\n",
        "    crossover_types=[CrossoverTypesEnum.none]\n",
        ")\n",
        "best_graph, history, target_graph = \\\n",
        "    run_search(graph_kind='gnp', graph_size=30, gp_params=gp_params)"
      ]
    },
    {
      "cell_type": "markdown",
      "id": "doclYlefjwbT",
      "metadata": {
        "id": "doclYlefjwbT"
      },
      "source": [
        "Построим графики, сравнив с первым запуском эволюционного оптимизатора"
      ]
    },
    {
      "cell_type": "code",
      "execution_count": null,
      "id": "IkdqoPIzk3zp",
      "metadata": {
        "id": "IkdqoPIzk3zp"
      },
      "outputs": [],
      "source": [
        "history2.show.fitness_line()"
      ]
    },
    {
      "cell_type": "code",
      "execution_count": null,
      "id": "eea99779",
      "metadata": {
        "id": "eea99779"
      },
      "outputs": [],
      "source": [
        "history.show.fitness_line()"
      ]
    },
    {
      "cell_type": "markdown",
      "source": [
        "Попробуем запустить оптимизатор с меньшими вероятностями мутации и кроссовера. Замедлится ли эволюция или станет более стабильной? В каждом случае нужно подбирать подходящие значения. Но диапазон \"подходящих\" значений вероятностей, как показывает практиа области, достаточн широк. В некоторых же случаях слишком большие вероятности не дадут оптимизатору сойтись к оптимальному решению."
      ],
      "metadata": {
        "id": "UPN0AUuk0wUF"
      },
      "id": "UPN0AUuk0wUF"
    },
    {
      "cell_type": "code",
      "execution_count": null,
      "metadata": {
        "id": "QrISTTUX0wq8"
      },
      "outputs": [],
      "source": [
        "gp_params = GPAlgorithmParameters(\n",
        "    mutation_prob=0.8,\n",
        "    crossover_prob=0.8,\n",
        "    genetic_scheme_type=GeneticSchemeTypesEnum.parameter_free,\n",
        "    mutation_types=[\n",
        "        MutationTypesEnum.single_add,\n",
        "        MutationTypesEnum.single_drop,\n",
        "        MutationTypesEnum.single_edge,\n",
        "    ],\n",
        ")\n",
        "best_graph, history, target_graph = \\\n",
        "    run_search(graph_kind='gnp', graph_size=30, gp_params=gp_params)"
      ],
      "id": "QrISTTUX0wq8"
    },
    {
      "cell_type": "code",
      "execution_count": null,
      "metadata": {
        "id": "U6lWo_hy1ugx"
      },
      "outputs": [],
      "source": [
        "history1.show.fitness_line()"
      ],
      "id": "U6lWo_hy1ugx"
    },
    {
      "cell_type": "code",
      "execution_count": null,
      "metadata": {
        "id": "lOCDqYiB1uwx"
      },
      "outputs": [],
      "source": [
        "history.show.fitness_line()"
      ],
      "id": "lOCDqYiB1uwx"
    },
    {
      "cell_type": "markdown",
      "source": [
        "Для того, чтобы избежать ручной подбор вероятностей, существуют адаптивне схемы эволюции. Адаптивная схема автоматически изменяет вероятности мутации и кроссовера в зависимости от успеха сходимости.\n",
        "\n",
        "Запустим оптимизатор с адаптивной эволюционной схемой. "
      ],
      "metadata": {
        "id": "TBCYFgvoz39O"
      },
      "id": "TBCYFgvoz39O"
    },
    {
      "cell_type": "code",
      "execution_count": null,
      "metadata": {
        "id": "efQ48o760PK_"
      },
      "outputs": [],
      "source": [
        "gp_params = GPAlgorithmParameters(\n",
        "    mutation_prob=0.8,\n",
        "    crossover_prob=0.8,\n",
        "    genetic_scheme_type=GeneticSchemeTypesEnum.parameter_free,\n",
        "    mutation_types=[\n",
        "        MutationTypesEnum.single_add,\n",
        "        MutationTypesEnum.single_drop,\n",
        "        MutationTypesEnum.single_edge,\n",
        "    ],\n",
        ")\n",
        "best_graph, history, target_graph = \\\n",
        "    run_search(graph_kind='gnp', graph_size=30, gp_params=gp_params)"
      ],
      "id": "efQ48o760PK_"
    },
    {
      "cell_type": "markdown",
      "source": [
        "Посмотрим на результаты"
      ],
      "metadata": {
        "id": "tSwlLebU0tF9"
      },
      "id": "tSwlLebU0tF9"
    },
    {
      "cell_type": "code",
      "execution_count": null,
      "metadata": {
        "id": "P1zfJiJs0j_z"
      },
      "outputs": [],
      "source": [
        "history2.show.fitness_line()"
      ],
      "id": "P1zfJiJs0j_z"
    },
    {
      "cell_type": "code",
      "execution_count": null,
      "metadata": {
        "id": "acm86vYX0kaX"
      },
      "outputs": [],
      "source": [
        "history.show.fitness_line()"
      ],
      "id": "acm86vYX0kaX"
    }
  ],
  "metadata": {
    "colab": {
      "provenance": [],
      "collapsed_sections": [
        "f6f4101a"
      ]
    },
    "kernelspec": {
      "display_name": "Python 3 (ipykernel)",
      "language": "python",
      "name": "python3"
    },
    "language_info": {
      "codemirror_mode": {
        "name": "ipython",
        "version": 3
      },
      "file_extension": ".py",
      "mimetype": "text/x-python",
      "name": "python",
      "nbconvert_exporter": "python",
      "pygments_lexer": "ipython3",
      "version": "3.9.15"
    }
  },
  "nbformat": 4,
  "nbformat_minor": 5
}